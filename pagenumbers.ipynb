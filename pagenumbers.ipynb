{
  "nbformat": 4,
  "nbformat_minor": 0,
  "metadata": {
    "colab": {
      "provenance": [],
      "authorship_tag": "ABX9TyObIoDB5RTtdYZ9bvJomG2P",
      "include_colab_link": true
    },
    "kernelspec": {
      "name": "python3",
      "display_name": "Python 3"
    },
    "language_info": {
      "name": "python"
    }
  },
  "cells": [
    {
      "cell_type": "markdown",
      "metadata": {
        "id": "view-in-github",
        "colab_type": "text"
      },
      "source": [
        "<a href=\"https://colab.research.google.com/github/SaiCharanReddy16/PDF_Accessibility_Evaluation/blob/main/pagenumbers.ipynb\" target=\"_parent\"><img src=\"https://colab.research.google.com/assets/colab-badge.svg\" alt=\"Open In Colab\"/></a>"
      ]
    },
    {
      "cell_type": "code",
      "execution_count": 13,
      "metadata": {
        "colab": {
          "base_uri": "https://localhost:8080/"
        },
        "id": "v4fc7x0EPPK9",
        "outputId": "79a7f813-58cd-4d01-8f2a-e3340b11c5b4"
      },
      "outputs": [
        {
          "output_type": "stream",
          "name": "stdout",
          "text": [
            "Page Number: 1\n",
            "Page Number: 2\n",
            "Page Number: 3\n",
            "Page Number: 4\n",
            "Page Number: 5\n",
            "Page Number: 6\n",
            "Page Number: 7\n",
            "Page Number: 8\n",
            "Page Number: 9\n",
            "Page Number: 10\n",
            "Page Number: 11\n",
            "Page Number: 12\n",
            "Page Number: 13\n",
            "Page Number: 14\n",
            "Page Number: 15\n",
            "Page Number: 16\n",
            "Page Number: 17\n",
            "Page Number: 18\n",
            "Page Number: 19\n",
            "Page Number: 20\n",
            "Page Number: 21\n",
            "Page Number: 22\n",
            "Page Number: 23\n",
            "Page Number: 24\n",
            "Page Number: 25\n",
            "Page Number: 26\n",
            "Page Number: 27\n",
            "Page Number: 28\n",
            "Page Number: 29\n",
            "Page Number: 30\n",
            "Page Number: 31\n",
            "Page Number: 32\n",
            "Page Number: 33\n",
            "Page Number: 34\n",
            "Page Number: 35\n",
            "Page Number: 36\n",
            "Page Number: 37\n",
            "Page Number: 38\n",
            "Page Number: 39\n",
            "Page Number: 40\n",
            "Page Number: 41\n",
            "Page Number: 42\n",
            "Page Number: 43\n",
            "Page Number: 44\n",
            "Page Number: 45\n",
            "Page Number: 46\n",
            "Page Number: 47\n",
            "Page Number: 48\n",
            "Page Number: 49\n",
            "Page Number: 50\n",
            "Page Number: 51\n",
            "Page Number: 52\n",
            "Page Number: 53\n",
            "Page Number: 54\n",
            "Page Number: 55\n",
            "Page Number: 56\n",
            "Page Number: 57\n",
            "Page Number: 58\n",
            "Page Number: 59\n",
            "Page Number: 60\n",
            "Page Number: 61\n",
            "Page Number: 62\n",
            "Page Number: 63\n",
            "Page Number: 64\n",
            "Page Number: 65\n",
            "Page Number: 66\n",
            "Page Number: 67\n",
            "Page Number: 68\n",
            "Page Number: 69\n",
            "Page Number: 70\n",
            "Page Number: 71\n",
            "Page Number: 72\n",
            "Page Number: 73\n",
            "Page Number: 74\n",
            "Page Number: 75\n",
            "Page Number: 76\n",
            "Page Number: 77\n",
            "Page Number: 78\n",
            "Page Number: 79\n",
            "Page Number: 80\n",
            "Page Number: 81\n",
            "Page Number: 82\n",
            "Page Number: 83\n"
          ]
        }
      ],
      "source": [
        "import fitz\n",
        "import roman\n",
        "\n",
        "def is_roman_numeral(text):\n",
        "    try:\n",
        "        roman.fromRoman(text)\n",
        "        return True\n",
        "    except:\n",
        "        return False\n",
        "def is_decimal_page_number(text):\n",
        "    try:\n",
        "        float(text)\n",
        "        return True\n",
        "    except ValueError:\n",
        "        return False\n",
        "\n",
        "def extract_page_numbers(pdf_file_path):\n",
        "    page_numbers = []\n",
        "\n",
        "    pdf_document = fitz.open(pdf_file_path)\n",
        "\n",
        "    for page_num in range(len(pdf_document)):\n",
        "        page = pdf_document.load_page(page_num)\n",
        "\n",
        "        page_text = page.get_text(\"dict\")\n",
        "\n",
        "        for block in page_text.get(\"blocks\", []):\n",
        "            for line in block.get(\"lines\", []):\n",
        "                for span in line.get(\"spans\", []):\n",
        "                    text = span[\"text\"]\n",
        "                    y0 = span[\"bbox\"][1]\n",
        "                    if (is_roman_numeral(text) or text.isdigit()) and is_decimal_page_number(text) and 1 <= int(text) <= len(pdf_document) :\n",
        "                        page_numbers.append(text)\n",
        "\n",
        "    pdf_document.close()\n",
        "    return page_numbers\n",
        "\n",
        "input_pdf_file = \"pdf1.pdf\"\n",
        "\n",
        "extracted_page_numbers = extract_page_numbers(input_pdf_file)\n",
        "\n",
        "for page_number in extracted_page_numbers:\n",
        "    print(f\"Page Number: {page_number}\")\n"
      ]
    },
    {
      "cell_type": "code",
      "source": [
        "!pip install roman"
      ],
      "metadata": {
        "colab": {
          "base_uri": "https://localhost:8080/"
        },
        "id": "mOw9LfgIPY-6",
        "outputId": "24056944-a054-47f4-fa57-871cab47fa33"
      },
      "execution_count": 12,
      "outputs": [
        {
          "output_type": "stream",
          "name": "stdout",
          "text": [
            "Collecting roman\n",
            "  Downloading roman-4.1-py3-none-any.whl (5.5 kB)\n",
            "Installing collected packages: roman\n",
            "Successfully installed roman-4.1\n"
          ]
        }
      ]
    }
  ]
}