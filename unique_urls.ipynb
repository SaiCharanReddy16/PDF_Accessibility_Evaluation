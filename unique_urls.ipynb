{
  "nbformat": 4,
  "nbformat_minor": 0,
  "metadata": {
    "colab": {
      "provenance": []
    },
    "kernelspec": {
      "name": "python3",
      "display_name": "Python 3"
    },
    "language_info": {
      "name": "python"
    }
  },
  "cells": [
    {
      "cell_type": "code",
      "execution_count": 13,
      "metadata": {
        "colab": {
          "base_uri": "https://localhost:8080/"
        },
        "id": "J4b7V1x5hjZ7",
        "outputId": "d8bd1a57-1e88-4591-fe0e-548517d3dd6a"
      },
      "outputs": [
        {
          "output_type": "stream",
          "name": "stdout",
          "text": [
            "URL: https://unt.instructure.com/login/ldap\n",
            "Page: 1\n",
            "\n",
            "URL: https://joinhandshake.com/\n",
            "Page: 1\n",
            "\n",
            "URL: https://example.com/path?param=value#fragment\n",
            "Page: 1\n",
            "\n"
          ]
        }
      ],
      "source": [
        "import pdfplumber\n",
        "from urllib.parse import urlparse\n",
        "\n",
        "def is_valid_url(string):\n",
        "    parsed_url = urlparse(string)\n",
        "    return all([parsed_url.scheme, parsed_url.netloc])\n",
        "\n",
        "def extract_links(pdf_file_path):\n",
        "    links = []\n",
        "    unique_urls = set()\n",
        "\n",
        "    with pdfplumber.open(pdf_file_path) as pdf:\n",
        "        for page_num, page in enumerate(pdf.pages):\n",
        "            text = page.extract_text()\n",
        "\n",
        "            words = text.split()\n",
        "\n",
        "            for word in words:\n",
        "                if is_valid_url(word):\n",
        "                    url = word.strip()\n",
        "                    if url not in unique_urls:\n",
        "                        links.append({\n",
        "                            \"url\": url,\n",
        "                            \"page\": page_num + 1\n",
        "                        })\n",
        "                        unique_urls.add(url)\n",
        "\n",
        "    return links\n",
        "\n",
        "input_pdf_file = \"e1.pdf\"\n",
        "\n",
        "extracted_links = extract_links(input_pdf_file)\n",
        "\n",
        "for link_info in extracted_links:\n",
        "    print(f\"URL: {link_info['url']}\")\n",
        "    print(f\"Page: {link_info['page']}\")\n",
        "    print()\n"
      ]
    },
    {
      "cell_type": "code",
      "source": [
        "!pip install pdfplumber"
      ],
      "metadata": {
        "colab": {
          "base_uri": "https://localhost:8080/"
        },
        "id": "3WL9oBU5hk7W",
        "outputId": "3b515a9a-4133-476a-885b-d2c98128e5c1"
      },
      "execution_count": 5,
      "outputs": [
        {
          "output_type": "stream",
          "name": "stdout",
          "text": [
            "Collecting pdfplumber\n",
            "  Downloading pdfplumber-0.10.3-py3-none-any.whl (48 kB)\n",
            "\u001b[2K     \u001b[90m━━━━━━━━━━━━━━━━━━━━━━━━━━━━━━━━━━━━━━━━\u001b[0m \u001b[32m49.0/49.0 kB\u001b[0m \u001b[31m2.0 MB/s\u001b[0m eta \u001b[36m0:00:00\u001b[0m\n",
            "\u001b[?25hCollecting pdfminer.six==20221105 (from pdfplumber)\n",
            "  Downloading pdfminer.six-20221105-py3-none-any.whl (5.6 MB)\n",
            "\u001b[2K     \u001b[90m━━━━━━━━━━━━━━━━━━━━━━━━━━━━━━━━━━━━━━━━\u001b[0m \u001b[32m5.6/5.6 MB\u001b[0m \u001b[31m17.8 MB/s\u001b[0m eta \u001b[36m0:00:00\u001b[0m\n",
            "\u001b[?25hRequirement already satisfied: Pillow>=9.1 in /usr/local/lib/python3.10/dist-packages (from pdfplumber) (9.4.0)\n",
            "Collecting pypdfium2>=4.18.0 (from pdfplumber)\n",
            "  Downloading pypdfium2-4.22.0-py3-none-manylinux_2_17_x86_64.whl (2.9 MB)\n",
            "\u001b[2K     \u001b[90m━━━━━━━━━━━━━━━━━━━━━━━━━━━━━━━━━━━━━━━━\u001b[0m \u001b[32m2.9/2.9 MB\u001b[0m \u001b[31m37.8 MB/s\u001b[0m eta \u001b[36m0:00:00\u001b[0m\n",
            "\u001b[?25hRequirement already satisfied: charset-normalizer>=2.0.0 in /usr/local/lib/python3.10/dist-packages (from pdfminer.six==20221105->pdfplumber) (3.3.1)\n",
            "Requirement already satisfied: cryptography>=36.0.0 in /usr/local/lib/python3.10/dist-packages (from pdfminer.six==20221105->pdfplumber) (41.0.5)\n",
            "Requirement already satisfied: cffi>=1.12 in /usr/local/lib/python3.10/dist-packages (from cryptography>=36.0.0->pdfminer.six==20221105->pdfplumber) (1.16.0)\n",
            "Requirement already satisfied: pycparser in /usr/local/lib/python3.10/dist-packages (from cffi>=1.12->cryptography>=36.0.0->pdfminer.six==20221105->pdfplumber) (2.21)\n",
            "Installing collected packages: pypdfium2, pdfminer.six, pdfplumber\n",
            "Successfully installed pdfminer.six-20221105 pdfplumber-0.10.3 pypdfium2-4.22.0\n"
          ]
        }
      ]
    }
  ]
}