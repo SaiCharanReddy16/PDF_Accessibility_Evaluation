{
  "nbformat": 4,
  "nbformat_minor": 0,
  "metadata": {
    "colab": {
      "provenance": []
    },
    "kernelspec": {
      "name": "python3",
      "display_name": "Python 3"
    },
    "language_info": {
      "name": "python"
    }
  },
  "cells": [
    {
      "cell_type": "code",
      "source": [
        "!pip install PyMuPDF"
      ],
      "metadata": {
        "colab": {
          "base_uri": "https://localhost:8080/"
        },
        "id": "LItSlsDIxp09",
        "outputId": "16fe6604-1ea5-401c-9568-16300a1f1197"
      },
      "execution_count": null,
      "outputs": [
        {
          "output_type": "stream",
          "name": "stdout",
          "text": [
            "Collecting PyMuPDF\n",
            "  Downloading PyMuPDF-1.23.5-cp310-none-manylinux2014_x86_64.whl (4.3 MB)\n",
            "\u001b[2K     \u001b[90m━━━━━━━━━━━━━━━━━━━━━━━━━━━━━━━━━━━━━━━━\u001b[0m \u001b[32m4.3/4.3 MB\u001b[0m \u001b[31m29.7 MB/s\u001b[0m eta \u001b[36m0:00:00\u001b[0m\n",
            "\u001b[?25hCollecting PyMuPDFb==1.23.5 (from PyMuPDF)\n",
            "  Downloading PyMuPDFb-1.23.5-py3-none-manylinux2014_x86_64.manylinux_2_17_x86_64.whl (30.6 MB)\n",
            "\u001b[2K     \u001b[90m━━━━━━━━━━━━━━━━━━━━━━━━━━━━━━━━━━━━━━━━\u001b[0m \u001b[32m30.6/30.6 MB\u001b[0m \u001b[31m46.2 MB/s\u001b[0m eta \u001b[36m0:00:00\u001b[0m\n",
            "\u001b[?25hInstalling collected packages: PyMuPDFb, PyMuPDF\n",
            "Successfully installed PyMuPDF-1.23.5 PyMuPDFb-1.23.5\n"
          ]
        }
      ]
    },
    {
      "cell_type": "code",
      "source": [
        "!pip install PyMuPDF"
      ],
      "metadata": {
        "colab": {
          "base_uri": "https://localhost:8080/"
        },
        "id": "uOSjXmChV91g",
        "outputId": "54c00662-fd23-4472-ee6b-8bc450bf1e8c"
      },
      "execution_count": null,
      "outputs": [
        {
          "output_type": "stream",
          "name": "stdout",
          "text": [
            "Collecting PyMuPDF\n",
            "  Downloading PyMuPDF-1.23.5-cp310-none-manylinux2014_x86_64.whl (4.3 MB)\n",
            "\u001b[2K     \u001b[90m━━━━━━━━━━━━━━━━━━━━━━━━━━━━━━━━━━━━━━━━\u001b[0m \u001b[32m4.3/4.3 MB\u001b[0m \u001b[31m32.2 MB/s\u001b[0m eta \u001b[36m0:00:00\u001b[0m\n",
            "\u001b[?25hCollecting PyMuPDFb==1.23.5 (from PyMuPDF)\n",
            "  Downloading PyMuPDFb-1.23.5-py3-none-manylinux2014_x86_64.manylinux_2_17_x86_64.whl (30.6 MB)\n",
            "\u001b[2K     \u001b[90m━━━━━━━━━━━━━━━━━━━━━━━━━━━━━━━━━━━━━━━━\u001b[0m \u001b[32m30.6/30.6 MB\u001b[0m \u001b[31m41.7 MB/s\u001b[0m eta \u001b[36m0:00:00\u001b[0m\n",
            "\u001b[?25hInstalling collected packages: PyMuPDFb, PyMuPDF\n",
            "Successfully installed PyMuPDF-1.23.5 PyMuPDFb-1.23.5\n"
          ]
        }
      ]
    },
    {
      "cell_type": "code",
      "source": [
        "!pip install pdf2image"
      ],
      "metadata": {
        "colab": {
          "base_uri": "https://localhost:8080/"
        },
        "id": "cmghqcA6WQBS",
        "outputId": "8d2f3bda-3f4a-4763-8cc2-12c5f65ac566"
      },
      "execution_count": null,
      "outputs": [
        {
          "output_type": "stream",
          "name": "stdout",
          "text": [
            "Collecting pdf2image\n",
            "  Downloading pdf2image-1.16.3-py3-none-any.whl (11 kB)\n",
            "Requirement already satisfied: pillow in /usr/local/lib/python3.10/dist-packages (from pdf2image) (9.4.0)\n",
            "Installing collected packages: pdf2image\n",
            "Successfully installed pdf2image-1.16.3\n"
          ]
        }
      ]
    },
    {
      "cell_type": "code",
      "source": [
        "!pip install pytesseract"
      ],
      "metadata": {
        "colab": {
          "base_uri": "https://localhost:8080/"
        },
        "id": "mNVyZ336WWAI",
        "outputId": "dfd5e56b-98c8-44b3-b1a5-34c505a0db6d"
      },
      "execution_count": null,
      "outputs": [
        {
          "output_type": "stream",
          "name": "stdout",
          "text": [
            "Collecting pytesseract\n",
            "  Downloading pytesseract-0.3.10-py3-none-any.whl (14 kB)\n",
            "Requirement already satisfied: packaging>=21.3 in /usr/local/lib/python3.10/dist-packages (from pytesseract) (23.2)\n",
            "Requirement already satisfied: Pillow>=8.0.0 in /usr/local/lib/python3.10/dist-packages (from pytesseract) (9.4.0)\n",
            "Installing collected packages: pytesseract\n",
            "Successfully installed pytesseract-0.3.10\n"
          ]
        }
      ]
    },
    {
      "cell_type": "code",
      "source": [
        "!apt-get install poppler-utils"
      ],
      "metadata": {
        "colab": {
          "base_uri": "https://localhost:8080/"
        },
        "id": "BVtBjKkXWrEp",
        "outputId": "80cf843f-9662-4cea-cbaf-321fb4d45602"
      },
      "execution_count": null,
      "outputs": [
        {
          "output_type": "stream",
          "name": "stdout",
          "text": [
            "Reading package lists... Done\n",
            "Building dependency tree... Done\n",
            "Reading state information... Done\n",
            "The following NEW packages will be installed:\n",
            "  poppler-utils\n",
            "0 upgraded, 1 newly installed, 0 to remove and 18 not upgraded.\n",
            "Need to get 186 kB of archives.\n",
            "After this operation, 696 kB of additional disk space will be used.\n",
            "Get:1 http://archive.ubuntu.com/ubuntu jammy-updates/main amd64 poppler-utils amd64 22.02.0-2ubuntu0.2 [186 kB]\n",
            "Fetched 186 kB in 0s (671 kB/s)\n",
            "Selecting previously unselected package poppler-utils.\n",
            "(Reading database ... 120874 files and directories currently installed.)\n",
            "Preparing to unpack .../poppler-utils_22.02.0-2ubuntu0.2_amd64.deb ...\n",
            "Unpacking poppler-utils (22.02.0-2ubuntu0.2) ...\n",
            "Setting up poppler-utils (22.02.0-2ubuntu0.2) ...\n",
            "Processing triggers for man-db (2.10.2-1) ...\n"
          ]
        }
      ]
    },
    {
      "cell_type": "code",
      "source": [
        "pytesseract.pytesseract.tesseract_cmd = 'C:\\\\Program Files (x86)\\\\Tesseract-OCR\\\\tesseract.exe'"
      ],
      "metadata": {
        "id": "iMsatC4lXrH8"
      },
      "execution_count": null,
      "outputs": []
    },
    {
      "cell_type": "code",
      "source": [
        "!pip install PyMuPDF"
      ],
      "metadata": {
        "colab": {
          "base_uri": "https://localhost:8080/"
        },
        "id": "uZgbXo1z9xOr",
        "outputId": "7c8ded01-9fad-48d6-83ee-fbf82b6bc926"
      },
      "execution_count": 2,
      "outputs": [
        {
          "output_type": "stream",
          "name": "stdout",
          "text": [
            "Collecting PyMuPDF\n",
            "  Downloading PyMuPDF-1.23.5-cp310-none-manylinux2014_x86_64.whl (4.3 MB)\n",
            "\u001b[2K     \u001b[90m━━━━━━━━━━━━━━━━━━━━━━━━━━━━━━━━━━━━━━━━\u001b[0m \u001b[32m4.3/4.3 MB\u001b[0m \u001b[31m12.9 MB/s\u001b[0m eta \u001b[36m0:00:00\u001b[0m\n",
            "\u001b[?25hCollecting PyMuPDFb==1.23.5 (from PyMuPDF)\n",
            "  Downloading PyMuPDFb-1.23.5-py3-none-manylinux2014_x86_64.manylinux_2_17_x86_64.whl (30.6 MB)\n",
            "\u001b[2K     \u001b[90m━━━━━━━━━━━━━━━━━━━━━━━━━━━━━━━━━━━━━━━━\u001b[0m \u001b[32m30.6/30.6 MB\u001b[0m \u001b[31m36.6 MB/s\u001b[0m eta \u001b[36m0:00:00\u001b[0m\n",
            "\u001b[?25hInstalling collected packages: PyMuPDFb, PyMuPDF\n",
            "Successfully installed PyMuPDF-1.23.5 PyMuPDFb-1.23.5\n"
          ]
        }
      ]
    },
    {
      "cell_type": "code",
      "source": [
        "import fitz  # PyMuPDF\n",
        "import re\n",
        "\n",
        "def extract_page_numbers(pdf_path):\n",
        "    # Open the PDF file using PyMuPDF\n",
        "    pdf_document = fitz.open(pdf_path)\n",
        "\n",
        "    page_numbers = []\n",
        "\n",
        "    for page_number in range(len(pdf_document)):\n",
        "        page = pdf_document.load_page(page_number)\n",
        "\n",
        "        # Extract text from the page\n",
        "        text = page.get_text()\n",
        "\n",
        "         # Split the text into lines\n",
        "        lines = text.splitlines()\n",
        "\n",
        "\n",
        "        page_number_patterns = [\n",
        "            #r'\\s*(\\w+)',\n",
        "            r'(.*)'\n",
        "\n",
        "        ]\n",
        "\n",
        "        for pattern in page_number_patterns:\n",
        "            # Check for page numbers in the first and last lines of the page\n",
        "            first_line_match = re.search(pattern, lines[0], re.IGNORECASE)\n",
        "            #last_line_match = re.search(pattern, lines[-1], re.IGNORECASE)\n",
        "\n",
        "            if first_line_match:\n",
        "                page_numbers.append(first_line_match.group(1))\n",
        "\n",
        "            #if last_line_match:\n",
        "            #     page_numbers.append(last_line_match.group(1))\n",
        "\n",
        "\n",
        "    pdf_document.close()\n",
        "\n",
        "    return page_numbers\n",
        "\n",
        "\n",
        "if __name__ == \"__main__\":\n",
        "    pdf_path = \"/content/annotated-Web%20app%20%26%20AI_Sprint1.pdf\"\n",
        "    extracted_page_numbers = extract_page_numbers(pdf_path)\n",
        "\n",
        "    if extracted_page_numbers:\n",
        "        print(\"Extracted Headers:\")\n",
        "        for page_number in extracted_page_numbers:\n",
        "\n",
        "            print(page_number)\n",
        "    else:\n",
        "        print(\"No page numbers found.\")\n"
      ],
      "metadata": {
        "colab": {
          "base_uri": "https://localhost:8080/"
        },
        "id": "LPauwcMR9rai",
        "outputId": "c895d191-e86a-4607-9864-6519cab56d5b"
      },
      "execution_count": 3,
      "outputs": [
        {
          "output_type": "stream",
          "name": "stdout",
          "text": [
            "Extracted Headers:\n",
            "CSCE 5430 Software Engineering                                                                                                                         Sprint 1 \n",
            "CSCE 5430 Software Engineering                                                                                                                         Sprint 1 \n",
            "CSCE 5430 Software Engineering                                                                                                                         Sprint 1 \n",
            "CSCE 5430 Software Engineering                                                                                                                         Sprint 1 \n",
            "CSCE 5430 Software Engineering                                                                                                                         Sprint 1 \n",
            "CSCE 5430 Software Engineering                                                                                                                         Sprint 1 \n",
            "CSCE 5430 Software Engineering                                                                                                                         Sprint 1 \n",
            "CSCE 5430 Software Engineering                                                                                                                         Sprint 1 \n",
            "CSCE 5430 Software Engineering                                                                                                                         Sprint 1 \n",
            "CSCE 5430 Software Engineering                                                                                                                         Sprint 1 \n",
            "CSCE 5430 Software Engineering                                                                                                                         Sprint 1 \n",
            "CSCE 5430 Software Engineering                                                                                                                         Sprint 1 \n",
            "CSCE 5430 Software Engineering                                                                                                                         Sprint 1 \n",
            "CSCE 5430 Software Engineering                                                                                                                         Sprint 1 \n",
            "CSCE 5430 Software Engineering                                                                                                                         Sprint 1 \n",
            "CSCE 5430 Software Engineering                                                                                                                         Sprint 1 \n",
            "CSCE 5430 Software Engineering                                                                                                                         Sprint 1 \n"
          ]
        }
      ]
    }
  ]
}