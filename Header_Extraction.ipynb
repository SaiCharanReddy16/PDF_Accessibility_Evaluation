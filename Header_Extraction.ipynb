{
  "nbformat": 4,
  "nbformat_minor": 0,
  "metadata": {
    "colab": {
      "provenance": []
    },
    "kernelspec": {
      "name": "python3",
      "display_name": "Python 3"
    },
    "language_info": {
      "name": "python"
    }
  },
  "cells": [
    {
      "cell_type": "code",
      "source": [
        "!pip install PyMuPDF"
      ],
      "metadata": {
        "colab": {
          "base_uri": "https://localhost:8080/"
        },
        "id": "vO_i5L6CNttv",
        "outputId": "ab1ce712-b986-4fac-b45d-8b95a752c4cb"
      },
      "execution_count": 1,
      "outputs": [
        {
          "output_type": "stream",
          "name": "stdout",
          "text": [
            "Collecting PyMuPDF\n",
            "  Downloading PyMuPDF-1.23.5-cp310-none-manylinux2014_x86_64.whl (4.3 MB)\n",
            "\u001b[2K     \u001b[90m━━━━━━━━━━━━━━━━━━━━━━━━━━━━━━━━━━━━━━━━\u001b[0m \u001b[32m4.3/4.3 MB\u001b[0m \u001b[31m10.0 MB/s\u001b[0m eta \u001b[36m0:00:00\u001b[0m\n",
            "\u001b[?25hCollecting PyMuPDFb==1.23.5 (from PyMuPDF)\n",
            "  Downloading PyMuPDFb-1.23.5-py3-none-manylinux2014_x86_64.manylinux_2_17_x86_64.whl (30.6 MB)\n",
            "\u001b[2K     \u001b[90m━━━━━━━━━━━━━━━━━━━━━━━━━━━━━━━━━━━━━━━━\u001b[0m \u001b[32m30.6/30.6 MB\u001b[0m \u001b[31m33.3 MB/s\u001b[0m eta \u001b[36m0:00:00\u001b[0m\n",
            "\u001b[?25hInstalling collected packages: PyMuPDFb, PyMuPDF\n",
            "Successfully installed PyMuPDF-1.23.5 PyMuPDFb-1.23.5\n"
          ]
        }
      ]
    },
    {
      "cell_type": "code",
      "source": [
        "!pip install pdf2image"
      ],
      "metadata": {
        "colab": {
          "base_uri": "https://localhost:8080/"
        },
        "id": "3QuBTi5WN-A3",
        "outputId": "62ef64b8-9c19-4fcd-e4ef-de54fbe161af"
      },
      "execution_count": 2,
      "outputs": [
        {
          "output_type": "stream",
          "name": "stdout",
          "text": [
            "Collecting pdf2image\n",
            "  Downloading pdf2image-1.16.3-py3-none-any.whl (11 kB)\n",
            "Requirement already satisfied: pillow in /usr/local/lib/python3.10/dist-packages (from pdf2image) (9.4.0)\n",
            "Installing collected packages: pdf2image\n",
            "Successfully installed pdf2image-1.16.3\n"
          ]
        }
      ]
    },
    {
      "cell_type": "code",
      "source": [
        "!pip install pytesseract"
      ],
      "metadata": {
        "colab": {
          "base_uri": "https://localhost:8080/"
        },
        "id": "i7ExvNBxONJf",
        "outputId": "3e66c6a0-df61-48ad-931a-4aa4f67cab10"
      },
      "execution_count": 3,
      "outputs": [
        {
          "output_type": "stream",
          "name": "stdout",
          "text": [
            "Collecting pytesseract\n",
            "  Downloading pytesseract-0.3.10-py3-none-any.whl (14 kB)\n",
            "Requirement already satisfied: packaging>=21.3 in /usr/local/lib/python3.10/dist-packages (from pytesseract) (23.2)\n",
            "Requirement already satisfied: Pillow>=8.0.0 in /usr/local/lib/python3.10/dist-packages (from pytesseract) (9.4.0)\n",
            "Installing collected packages: pytesseract\n",
            "Successfully installed pytesseract-0.3.10\n"
          ]
        }
      ]
    },
    {
      "cell_type": "code",
      "execution_count": 4,
      "metadata": {
        "colab": {
          "base_uri": "https://localhost:8080/"
        },
        "id": "vUV2jUl3Npvk",
        "outputId": "a5e0fd64-3c7d-44cf-a5e3-2d821f2a8eb4"
      },
      "outputs": [
        {
          "output_type": "stream",
          "name": "stdout",
          "text": [
            "Unique Headers:\n",
            "CSCE 5430 Software Engineering                                                                                                                         Sprint 1 \n"
          ]
        }
      ],
      "source": [
        "import fitz  # PyMuPDF\n",
        "import re\n",
        "\n",
        "def extract_page_numbers(pdf_path):\n",
        "    # Open the PDF file using PyMuPDF\n",
        "    pdf_document = fitz.open(pdf_path)\n",
        "\n",
        "    unique_page_numbers = set()\n",
        "\n",
        "    for page_number in range(len(pdf_document)):\n",
        "        page = pdf_document.load_page(page_number)\n",
        "\n",
        "        # Extract text from the page\n",
        "        text = page.get_text()\n",
        "\n",
        "        # Split the text into lines\n",
        "        lines = text.splitlines()\n",
        "\n",
        "        page_number_patterns = [\n",
        "            r'(.*)'\n",
        "        ]\n",
        "\n",
        "        for pattern in page_number_patterns:\n",
        "            first_line_match = re.search(pattern, lines[0], re.IGNORECASE)\n",
        "            if first_line_match:\n",
        "                header = first_line_match.group(1)\n",
        "                unique_page_numbers.add(header)\n",
        "\n",
        "    pdf_document.close()\n",
        "\n",
        "    return list(unique_page_numbers)\n",
        "\n",
        "if __name__ == \"__main__\":\n",
        "    pdf_path = \"/content/annotated-Web%20app%20%26%20AI_Sprint1.pdf\"\n",
        "    extracted_page_numbers = extract_page_numbers(pdf_path)\n",
        "\n",
        "    if extracted_page_numbers:\n",
        "        print(\"Unique Headers:\")\n",
        "        for page_number in extracted_page_numbers:\n",
        "            print(page_number)\n",
        "    else:\n",
        "        print(\"No unique headers found.\")\n"
      ]
    }
  ]
}